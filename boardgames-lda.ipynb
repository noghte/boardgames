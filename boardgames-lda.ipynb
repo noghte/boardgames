{
 "cells": [
  {
   "cell_type": "code",
   "execution_count": 67,
   "metadata": {},
   "outputs": [
    {
     "data": {
      "text/html": [
       "<div>\n",
       "<style scoped>\n",
       "    .dataframe tbody tr th:only-of-type {\n",
       "        vertical-align: middle;\n",
       "    }\n",
       "\n",
       "    .dataframe tbody tr th {\n",
       "        vertical-align: top;\n",
       "    }\n",
       "\n",
       "    .dataframe thead th {\n",
       "        text-align: right;\n",
       "    }\n",
       "</style>\n",
       "<table border=\"1\" class=\"dataframe\">\n",
       "  <thead>\n",
       "    <tr style=\"text-align: right;\">\n",
       "      <th></th>\n",
       "      <th>text</th>\n",
       "    </tr>\n",
       "  </thead>\n",
       "  <tbody>\n",
       "    <tr>\n",
       "      <th>0</th>\n",
       "      <td>Long Story short: This game is absolutely wond...</td>\n",
       "    </tr>\n",
       "    <tr>\n",
       "      <th>1</th>\n",
       "      <td>Don't be daunted by the price (granted it's su...</td>\n",
       "    </tr>\n",
       "    <tr>\n",
       "      <th>2</th>\n",
       "      <td>It's hard to describe the awesomeness of this ...</td>\n",
       "    </tr>\n",
       "    <tr>\n",
       "      <th>3</th>\n",
       "      <td>This game is amazing!!!&lt;br /&gt;&lt;br /&gt;I've been p...</td>\n",
       "    </tr>\n",
       "    <tr>\n",
       "      <th>4</th>\n",
       "      <td>Its a solid attempt to turn Dungeons &amp; Dragons...</td>\n",
       "    </tr>\n",
       "  </tbody>\n",
       "</table>\n",
       "</div>"
      ],
      "text/plain": [
       "                                                text\n",
       "0  Long Story short: This game is absolutely wond...\n",
       "1  Don't be daunted by the price (granted it's su...\n",
       "2  It's hard to describe the awesomeness of this ...\n",
       "3  This game is amazing!!!<br /><br />I've been p...\n",
       "4  Its a solid attempt to turn Dungeons & Dragons..."
      ]
     },
     "execution_count": 67,
     "metadata": {},
     "output_type": "execute_result"
    }
   ],
   "source": [
    "import pandas as pd\n",
    "\n",
    "df = pd.read_csv('input_test.csv', encoding='latin1', header=None, names=[\"text\"])\n",
    "df.head()\n"
   ]
  },
  {
   "cell_type": "markdown",
   "metadata": {},
   "source": [
    "### Remove punctuation/lower casing"
   ]
  },
  {
   "cell_type": "code",
   "execution_count": 68,
   "metadata": {},
   "outputs": [],
   "source": [
    "# Load the regular expression library\n",
    "import re\n",
    "# Remove punctuation\n",
    "df['text'] = df['text'].map(lambda x: re.sub('[,\\.!?]', '', x))\n",
    "# Convert the to lowercase\n",
    "df['text'] = df['text'].map(lambda x: x.lower())"
   ]
  },
  {
   "cell_type": "markdown",
   "metadata": {},
   "source": [
    "### Tokenize"
   ]
  },
  {
   "cell_type": "code",
   "execution_count": 3,
   "metadata": {},
   "outputs": [
    {
     "name": "stdout",
     "output_type": "stream",
     "text": [
      "[['long', 'story', 'short', 'this', 'game', 'is', 'absolutely', 'wonderful', 'this', 'according', 'to', 'many', 'board', 'game', 'review', 'sites', 'is', 'set', 'to', 'be', 'the', 'top', 'game', 'of', 'and', 'recommend', 'getting', 'yourself', 'copy', 'though', 'it', 'will', 'likely', 'be', 'difficult', 'take', 'some', 'time', 'its', 'definitely', 'hot', 'selling', 'item', 'and', 'was', 'lucky', 'enough', 'to', 'pre', 'order', 'mine', 'month', 'ago', 'before', 'other', 'folks', 'started', 'seeing', 'it', 'listed', 'on', 'amazon', 'this', 'is', 'definitely', 'worth', 'getting', 'and', 'will', 'make', 'huge', 'hit', 'to', 'your', 'gaming', 'nights', 'more', 'detailed', 'breakdown', 'is', 'below', 'br', 'note', 'relating', 'to', 'pictures', 'the', 'game', 'does', 'not', 'come', 'with', 'painted', 'miniatures', 'as', 'enjoy', 'paining', 'them', 'did', 'so', 'but', 'my', 'wife', 'and', 'played', 'several', 'games', 'before', 'they', 'were', 'painted', 'without', 'any', 'issues', 'confusion', 'they', 'just', 'look', 'cooler', 'it', 'more', 'immersive', 'in', 'my', 'opinion', 'when', 'they', 'are', 'painted', 'br', 'br', 'legacy', 'mechanics', 'legacy', 'game', 'is', 'game', 'that', 'does', 'not', 'reset', 'from', 'one', 'playthrough', 'to', 'another', 'but', 'rather', 'like', 'reading', 'story', 'each', 'game', 'played', 'builds', 'on', 'the', 'next', 'in', 'an', 'overall', 'hour', 'campaign', 'note', 'unlike', 'other', 'campaign', 'legacy', 'games', 'this', 'does', 'not', 'require', 'single', 'playgroup', 'but', 'rather', 'you', 'can', 'start', 'new', 'party', 'with', 'just', 'about', 'anyone', 'anytime', 'and', 'you', 'just', 'drop', 'into', 'your', 'already', 'existing', 'world', 'to', 'plunder', 'dungeons', 'and', 'kill', 'baddies', 'the', 'game', 'comes', 'with', 'playable', 'characters', 'but', 'you', 'only', 'start', 'with', 'as', 'you', 'play', 'through', 'the', 'game', 'you', 'unlock', 'new', 'characters', 'races', 'classes', 'to', 'play', 'as', 'additionally', 'as', 'you', 'play', 'through', 'you', 'will', 'be', 'able', 'to', 'level', 'up', 'the', 'prosperity', 'of', 'the', 'town', 'of', 'gloomhaven', 'which', 'is', 'where', 'your', 'party', 'will', 'travel', 'between', 'adventures', 'to', 'level', 'up', 'buy', 'sell', 'gear', 'get', 'your', 'grog', 'or', 'mead', 'on', 'and', 'perform', 'random', 'town', 'events', 'as', 'gloomhaven', 'levels', 'up', 'new', 'items', 'become', 'available', 'to', 'purchase', 'and', 'any', 'new', 'characters', 'can', 'start', 'their', 'quests', 'at', 'higher', 'levels', 'as', 'you', 'play', 'through', 'and', 'eventually', 'retire', 'characters', 'you', 'will', 'gain', 'additional', 'permanent', 'stat', 'boosts', 'that', 'apply', 'to', 'all', 'your', 'characters', 'going', 'forward', 'like', 'many', 'other', 'legacy', 'game', 'this', 'game', 'includes', 'bunch', 'of', 'sealed', 'envelopes', 'unlockables', 'and', 'high', 'quality', 'stickers', 'that', 'go', 'on', 'the', 'area', 'map', 'as', 'well', 'as', 'on', 'character', 'cards', 'unlike', 'many', 'legacy', 'games', 'feel', 'like', 'this', 'can', 'easily', 'be', 'played', 'through', 'again', 'without', 'having', 'to', 'buy', 'another', 'copy', 'of', 'the', 'game', 'you', 'don', 'need', 'to', 'rip', 'up', 'cards', 'or', 'anything', 'in', 'this', 'game', 'and', 'other', 'than', 'the', 'character', 'card', 'upgrades', 'the', 'experience', 'wouldn', 'necessarily', 'be', 'ruined', 'by', 'having', 'all', 'the', 'locations', 'already', 'on', 'the', 'map', 'imagine', 'it', 'would', 'be', 'like', 'playing', 'skyrim', 'second', 'time', 'through', 'less', 'surprises', 'but', 'allows', 'you', 'to', 'fully', 'explore', 'character', 'class', 'types', 'you', 'didn', 'previously', 'and', 'allows', 'you', 'to', 'take', 'separate', 'paths', 'than', 'you', 'took', 'the', 'first', 'time', 'br', 'br', 'story', 'don', 'worry', 'won', 'spoil', 'anything', 'the', 'game', 'has', 'tons', 'of', 'missions', 'you', 'start', 'with', 'just', 'one', 'but', 'similar', 'to', 'all', 'those', 'rpg', 'video', 'games', 'we', 'love', 'you', 'begin', 'unlocking', 'more', 'and', 'more', 'then', 'pretty', 'soon', 'you', 'find', 'yourself', 'with', 'branching', 'and', 'interweaving', 'stories', 'some', 'have', 'consequences', 'that', 'have', 'an', 'impacts', 'on', 'others', 'for', 'example', 'will', 'you', 'go', 'and', 'work', 'for', 'this', 'shady', 'contact', 'you', 'meet', 'who', 'is', 'obviously', 'up', 'to', 'no', 'good', 'or', 'will', 'you', 'take', 'up', 'mission', 'to', 'hunt', 'down', 'and', 'kill', 'the', 'shady', 'contact', 'preventing', 'them', 'from', 'unleashing', 'havoc', 'whatever', 'choice', 'you', 'make', 'it', 'locks', 'off', 'other', 'missions', 'you', 'can', 'work', 'for', 'someone', 'if', 'you', 'brought', 'their', 'head', 'to', 'the', 'city', 'guard', 'of', 'course', 'you', 'can', 'always', 'enter', 'casual', 'mode', 'and', 'play', 'through', 'these', 'missions', 'its', 'your', 'game', 'afterall', 'but', 'personally', 'won', 'be', 'doing', 'this', 'until', 'complete', 'the', 'full', 'game', 'month', 'or', 'so', 'down', 'the', 'line', 'br', 'br', 'map', 'the', 'game', 'comes', 'with', 'wonderful', 'looking', 'board', 'map', 'of', 'gloomhaven', 'surrounding', 'area', 'overall', 'the', 'map', 'is', 'fairly', 'blank', 'to', 'start', 'with', 'and', 'you', 'begin', 'the', 'game', 'by', 'applying', 'sticker', 'in', 'specific', 'location', 'representing', 'the', 'available', 'missions', 'you', 'can', 'travel', 'to', 'while', 'am', 'not', 'even', 'close', 'to', 'completing', 'it', 'yet', 'it', 'already', 'looks', 'great', 'and', 'will', 'undoubtedly', 'look', 'amazing', 'after', 'your', 'adventures', 'are', 'complete', 'br', 'br', 'gameplay', 'this', 'is', 'semi', 'cooperative', 'game', 'overall', 'each', 'character', 'has', 'personal', 'goal', 'the', 'reason', 'why', 'they', 'choose', 'to', 'risk', 'their', 'lives', 'fighting', 'monsters', 'that', 'they', 'are', 'trying', 'to', 'achieve', 'after', 'you', 'achieve', 'this', 'your', 'character', 'retires', 'from', 'the', 'game', 'though', 'you', 'can', 'start', 'new', 'character', 'with', 'the', 'same', 'class', 'and', 'you', 'unlock', 'various', 'things', 'including', 'new', 'characters', 'of', 'course', 'using', 'team', 'work', 'to', 'assist', 'each', 'other', 'and', 'actually', 'beat', 'dungeons', 'is', 'essential', 'overall', 'you', 'are', 'trying', 'to', 'complete', 'your', 'own', 'goals', 'while', 'others', 'are', 'simultaneously', 'doing', 'theirs', 'when', 'you', 'aren', 'visiting', 'town', 'traveling', 'you', 'will', 'be', 'spending', 'vast', 'majority', 'of', 'the', 'game', 'delving', 'into', 'dungeons', 'crypts', 'forest', 'encampments', 'ancient', 'temples', 'etc', 'you', 'know', 'all', 'the', 'classics', 'setup', 'tile', 'placement', 'is', 'very', 'similar', 'to', 'games', 'like', 'decent', 'or', 'shadows', 'of', 'brimstone', 'however', 'there', 'are', 'no', 'dice', 'in', 'this', 'game', 'not', 'instead', 'movement', 'combat', 'is', 'performed', 'via', 'playing', 'from', 'hand', 'of', 'cards', 'you', 'begin', 'every', 'dungeon', 'with', 'set', 'amount', 'of', 'maximum', 'cards', 'and', 'each', 'round', 'you', 'play', 'cards', 'performing', 'actions', 'typically', 'move', 'type', 'action', 'and', 'one', 'that', 'centers', 'around', 'attacks', 'of', 'some', 'sort', 'after', 'this', 'the', 'cards', 'go', 'to', 'your', 'discard', 'pile', 'and', 'can', 'be', 'recovered', 'via', 'rest', 'action', 'however', 'when', 'you', 'rest', 'as', 'well', 'as', 'take', 'damage', 'you', 'begin', 'to', 'lose', 'cards', 'for', 'the', 'rest', 'of', 'the', 'scenario', 'after', 'you', 'have', 'completely', 'run', 'out', 'of', 'cards', 'your', 'character', 'becomes', 'exhausted', 'and', 'can', 'no', 'longer', 'participate', 'in', 'the', 'rest', 'of', 'the', 'scenario', 'so', 'the', 'trick', 'is', 'performing', 'your', 'actions', 'in', 'the', 'most', 'efficient', 'way', 'possible', 'so', 'that', 'you', 'can', 'complete', 'the', 'dungeon', 'before', 'running', 'out', 'of', 'cards', 'for', 'every', 'attack', 'you', 'will', 'also', 'draw', 'card', 'from', 'your', 'attack', 'modifier', 'deck', 'which', 'is', 'the', 'element', 'of', 'randomness', 'in', 'this', 'game', 'you', 'begin', 'with', 'preset', 'amount', 'of', 'cards', 'that', 'add', 'subtract', 'damage', 'damage', 'etc', 'the', 'amount', 'of', 'damage', 'you', 'deal', 'but', 'this', 'deck', 'can', 'be', 'altered', 'via', 'leveling', 'up', 'br', 'br', 'setting', 'the', 'game', 'does', 'bit', 'of', 'unique', 'twist', 'on', 'the', 'dungeon', 'crawler', 'genre', 'while', 'still', 'taking', 'place', 'location', 'wise', 'in', 'the', 'sorta', 'medieval', 'magic', 'laced', 'location', 'setting', 'it', 'does', 'away', 'with', 'elves', 'dwarves', 'goblins', 'and', 'the', 'other', 'classic', 'tropes', 'to', 'give', 'you', 'unique', 'world', 'that', 'feels', 'very', 'tolkien', 'esk', 'but', 'at', 'the', 'same', 'time', 'gives', 'you', 'very', 'fresh', 'look', 'starting', 'characters', 'races', 'include', 'the', 'vermling', 'humanoid', 'mouse', 'cat', 'type', 'creature', 'humans', 'of', 'course', 'an', 'orchid', 'mage', 'creatures', 'that', 'are', 'somewhat', 'reminiscent', 'of', 'asari', 'from', 'mass', 'effect', 'quatryls', 'small', 'creatures', 'that', 'are', 'great', 'with', 'mechanical', 'machinations', 'saavas', 'sorta', 'rock', 'men', 'monsters', 'and', 'inox', 'horned', 'bigfoot', 'with', 'sword', 'not', 'sure', 'what', 'is', 'in', 'store', 'for', 'characters', 'have', 'yet', 'to', 'unlock', 'but', 'overall', 'just', 'feels', 'far', 'more', 'fresh', 'and', 'unique', 'than', 'the', 'standards', 'we', 'are', 'all', 'used', 'to', 'in', 'these', 'sorts', 'of', 'games', 'br', 'br', 'leveling', 'up', 'what', 'would', 'an', 'rpg', 'be', 'without', 'leveling', 'up', 'your', 'character', 'as', 'you', 'gain', 'experience', 'you', 'will', 'be', 'able', 'to', 'level', 'up', 'your', 'character', 'which', 'allows', 'you', 'to', 'add', 'new', 'more', 'powerful', 'cards', 'to', 'your', 'hand', 'you', 'are', 'also', 'allowed', 'to', 'modify', 'your', 'attack', 'modifier', 'deck', 'so', 'that', 'it', 'can', 'become', 'more', 'powerful', 'or', 'add', 'new', 'abilities', 'that', 'can', 'synergize', 'with', 'your', 'team', 'other', 'cards', 'and', 'of', 'course', 'there', 'are', 'tons', 'of', 'items', 'gear', 'that', 'can', 'be', 'purchased', 'found', 'to', 'further', 'augment', 'beef', 'up', 'your', 'character', 'just', 'found', 'sweet', 'necromancer', 'ring', 'that', 'summons', 'skeleton', 'br', 'br', 'components', 'components', 'in', 'this', 'game', 'are', 'wonderful', 'and', 'you', 'get', 'so', 'freakin', 'much', 'the', 'huge', 'box', 'see', 'picture', 'next', 'to', 'gallon', 'water', 'jug', 'weighs', 'over', 'pounds', 'not', 'an', 'exaggeration', 'and', 'comes', 'with', 'tons', 'of', 'stuff', 'not', 'to', 'mention', 'wonderful', 'in', 'box', 'insert', 'that', 'keeps', 'most', 'of', 'the', 'cards', 'components', 'fairly', 'organized', 'great', 'design', 'all', 'playable', 'characters', 'comes', 'with', 'miniatures', 'that', 'are', 'extremely', 'detailed', 'am', 'having', 'blast', 'painting', 'them', 'if', 'you', 'are', 'into', 'that', 'all', 'monsters', 'have', 'cardboard', 'standees', 'but', 'don', 'let', 'that', 'turn', 'you', 'off', 'the', 'artwork', 'on', 'them', 'is', 'top', 'notch', 'and', 'it', 'really', 'doesn', 'detract', 'from', 'gameplay', 'immersion', 'each', 'character', 'comes', 'with', 'their', 'own', 'unique', 'hand', 'of', 'cards', 'to', 'use', 'upgrades', 'to', 'be', 'added', 'hundreds', 'of', 'cards', 'both', 'the', 'small', 'type', 'and', 'magic', 'sized', 'ones', 'really', 'can', 'make', 'single', 'complaint', 'about', 'anything', 'component', 'wise', 'br', 'br', 'difficulty', 'as', 'the', 'game', 'is', 'cooperative', 'playthroughs', 'are', 'not', 'cakewalk', 'and', 'do', 'take', 'some', 'thinking', 'that', 'being', 'said', 'the', 'game', 'sets', 'monster', 'difficulty', 'based', 'on', 'an', 'equation', 'determined', 'by', 'your', 'average', 'character', 'level', 'this', 'can', 'further', 'be', 'adjusted', 'to', 'play', 'the', 'scenario', 'on', 'easy', 'or', 'hard', 'which', 'affects', 'gold', 'xp', 'collected', 'the', 'game', 'doesn', 'mention', 'this', 'but', 'personally', 'say', 'you', 'should', 'start', 'your', 'first', 'few', 'scenarios', 'playing', 'under', 'easy', 'mode', 'both', 'to', 'get', 'the', 'hang', 'of', 'the', 'game', 'mechanics', 'and', 'so', 'you', 'can', 'get', 'gold', 'to', 'buy', 'gear', 'and', 'such', 'otherwise', 'you', 'may', 'find', 'yourself', 'getting', 'stomped', 'around', 'for', 'bit', 'br', 'would', 'put', 'this', 'game', 'in', 'moderate', 'level', 'when', 'it', 'comes', 'to', 'heaviness', 'of', 'rules', 'definitely', 'not', 'something', 'your', 'year', 'old', 'would', 'be', 'able', 'to', 'play', 'but', 'if', 'you', 'can', 'get', 'how', 'to', 'play', 'other', 'dungeon', 'crawling', 'games', 'you', 'won', 'have', 'any', 'issues', 'with', 'this', 'br', 'br', 'rules', 'the', 'game', 'has', 'wonderfully', 'set', 'up', 'thought', 'out', 'rule', 'book', 'reading', 'through', 'it', 'was', 'fairly', 'easy', 'though', 'it', 'is', 'long', 'pages', 'the', 'book', 'contains', 'many', 'picture', 'aides', 'that', 'guide', 'you', 'along', 'your', 'playthrough', 'after', 'our', 'first', 'couple', 'of', 'sessions', 'as', 'is', 'typical', 'with', 'these', 'moderately', 'heavy', 'games', 'we', 'got', 'down', 'the', 'mechanics', 'and', 'no', 'longer', 'rarely', 'needed', 'to', 'actually', 'consult', 'the', 'rulebook', 'it', 'is', 'refreshing', 'to', 'find', 'game', 'with', 'very', 'little', 'holes', 'within', 'the', 'rules', 'which', 'require', 'house', 'ruling', 'specific', 'circumstances', 'due', 'to', 'ambiguity', 'br', 'br', 'final', 'thoughts', 'wow', 'what', 'great', 'game', 'my', 'wife', 'and', 'can', 'get', 'enough', 'of', 'it', 'and', 'we', 'have', 'only', 'started', 'to', 'scratch', 'the', 'surface', 'of', 'it', 'after', 'several', 'play', 'sessions', 'at', 'least', 'hours', 'of', 'gameplay', 'we', 'are', 'still', 'just', 'as', 'entranced', 'as', 'when', 'we', 'first', 'started', 'and', 'it', 'is', 'only', 'getting', 'better', 'as', 'we', 'level', 'up', 'we', 'still', 'haven', 'retired', 'any', 'characters', 'expect', 'probably', 'at', 'least', 'dungeons', 'before', 'you', 'retire', 'though', 'this', 'is', 'just', 'wild', 'guess', 'and', 'depending', 'on', 'your', 'personal', 'mission', 'may', 'take', 'longer', 'shorter', 'though', 'am', 'getting', 'close', 'the', 'game', 'feels', 'lot', 'like', 'first', 'play', 'through', 'of', 'those', 'classic', 'video', 'game', 'rpgs', 'elder', 'scrolls', 'dragonage', 'witcher', 'etc', 'there', 'is', 'just', 'this', 'massive', 'world', 'all', 'for', 'the', 'exploring', 'and', 'you', 'quickly', 'find', 'yourself', 'with', 'tons', 'of', 'choices', 'of', 'what', 'to', 'do', 'what', 'story', 'arcs', 'to', 'explore', 'etc', 'there', 'are', 'side', 'quests', 'loot', 'leveling', 'up', 'more', 'side', 'quests', 'and', 'not', 'to', 'mention', 'an', 'interesting', 'story', 'with', 'branching', 'intertwining', 'story', 'arcs', 'my', 'wife', 'and', 'are', 'always', 'eager', 'to', 'get', 'off', 'on', 'the', 'next', 'mission', 'and', 'the', 'choose', 'your', 'own', 'adventure', 'style', 'of', 'play', 'is', 'very', 'unique', 'especially', 'when', 'it', 'comes', 'to', 'board', 'games', 'the', 'game', 'has', 'many', 'unique', 'concepts', 'that', 'hope', 'future', 'games', 'incorporate', 'br', 'shadows', 'of', 'brimstone', 'absolutely', 'love', 'you', 'but', 'sorry', 'won', 'be', 'playing', 'you', 'for', 'few', 'months', 'while', 'obsess', 'over', 'my', 'new', 'found', 'love', 'gloomhaven']]\n",
      "CPU times: user 8.16 s, sys: 166 ms, total: 8.32 s\n",
      "Wall time: 8.33 s\n"
     ]
    }
   ],
   "source": [
    "%%time\n",
    "import gensim\n",
    "from gensim.utils import simple_preprocess\n",
    "def sent_to_words(sentences):\n",
    "    for sentence in sentences:\n",
    "        yield(gensim.utils.simple_preprocess(str(sentence), deacc=True))  # deacc=True removes punctuations\n",
    "data = df[\"text\"].values.tolist()\n",
    "data_words = list(sent_to_words(data))\n",
    "print(data_words[:1])"
   ]
  },
  {
   "cell_type": "markdown",
   "metadata": {},
   "source": [
    "### Bi-grams and Tri-grams"
   ]
  },
  {
   "cell_type": "code",
   "execution_count": 4,
   "metadata": {},
   "outputs": [],
   "source": [
    "# Build the bigram and trigram models\n",
    "bigram = gensim.models.Phrases(data_words, min_count=5, threshold=100) # higher threshold fewer phrases.\n",
    "trigram = gensim.models.Phrases(bigram[data_words], threshold=100)\n",
    "# Faster way to get a sentence clubbed as a trigram/bigram\n",
    "bigram_mod = gensim.models.phrases.Phraser(bigram)\n",
    "trigram_mod = gensim.models.phrases.Phraser(trigram)"
   ]
  },
  {
   "cell_type": "markdown",
   "metadata": {},
   "source": [
    "### Remove stopwords, make bigrams and trigrams, and lemmatization functions definitions"
   ]
  },
  {
   "cell_type": "code",
   "execution_count": 5,
   "metadata": {},
   "outputs": [
    {
     "name": "stderr",
     "output_type": "stream",
     "text": [
      "[nltk_data] Downloading package stopwords to /home/saber/nltk_data...\n",
      "[nltk_data]   Unzipping corpora/stopwords.zip.\n"
     ]
    }
   ],
   "source": [
    "# Uncomment two lines below to download nltk data for first time, after download, comment again\n",
    "\n",
    "# import nltk\n",
    "# nltk.download('stopwords')\n",
    "\n",
    "from nltk.corpus import stopwords\n",
    "stop_words = stopwords.words('english')\n",
    "stop_words.extend(['from', 'subject', 're', 'edu', 'use'])\n",
    "# Define functions for stopwords, bigrams, trigrams and lemmatization\n",
    "def remove_stopwords(texts):\n",
    "    return [[word for word in simple_preprocess(str(doc)) if word not in stop_words] for doc in texts]\n",
    "def make_bigrams(texts):\n",
    "    return [bigram_mod[doc] for doc in texts]\n",
    "def make_trigrams(texts):\n",
    "    return [trigram_mod[bigram_mod[doc]] for doc in texts]\n",
    "def lemmatization(texts, allowed_postags=['NOUN', 'ADJ', 'VERB', 'ADV']):\n",
    "    \"\"\"https://spacy.io/api/annotation\"\"\"\n",
    "    texts_out = []\n",
    "    for sent in texts:\n",
    "        doc = nlp(\" \".join(sent)) \n",
    "        texts_out.append([token.lemma_ for token in doc if token.pos_ in allowed_postags])\n",
    "    return texts_out"
   ]
  },
  {
   "cell_type": "code",
   "execution_count": 6,
   "metadata": {},
   "outputs": [
    {
     "name": "stdout",
     "output_type": "stream",
     "text": [
      "[['long', 'story', 'short', 'game', 'absolutely', 'wonderful', 'accord', 'many', 'board', 'game', 'review', 'site', 'set', 'top', 'game', 'recommend', 'get', 'copy', 'likely', 'difficult', 'take', 'time', 'definitely', 'hot', 'selling', 'item', 'lucky', 'enough', 'pre', 'order', 'mine', 'month', 'ago', 'folk', 'start', 'see', 'list', 'definitely', 'worth', 'get', 'make', 'huge', 'hit', 'gaming', 'night', 'detail', 'breakdown', 'note', 'relate', 'picture', 'game', 'come', 'paint', 'miniature', 'enjoy', 'pain', 'wife', 'play', 'several', 'game', 'paint', 'issue', 'confusion', 'look', 'cool', 'immersive', 'opinion', 'paint', 'mechanic', 'game', 'game', 'reset', 'playthrough', 'rather', 'read', 'story', 'game', 'play', 'build', 'overall', 'hour', 'campaign', 'note', 'campaign', 'legacy', 'game', 'require', 'single', 'playgroup', 'rather', 'start', 'new', 'party', 'anytime', 'drop', 'already', 'exist', 'world', 'plunder', 'dungeon', 'kill', 'baddie', 'game', 'come', 'playable', 'character', 'start', 'play', 'game', 'unlock', 'new', 'character', 'race', 'class', 'play', 'additionally', 'play', 'able', 'level', 'prosperity', 'town', 'party', 'travel', 'adventure', 'level', 'buy', 'sell', 'gear', 'get', 'mead', 'perform', 'random', 'town', 'event', 'gloomhaven', 'level', 'new', 'item', 'become', 'available', 'purchase', 'new', 'character', 'start', 'quest', 'high', 'level', 'play', 'eventually', 'retire', 'character', 'gain', 'additional', 'permanent', 'stat', 'boost', 'apply', 'character', 'go', 'forward', 'many', 'legacy', 'game', 'game', 'include', 'seal', 'envelope', 'unlockable', 'high', 'quality', 'sticker', 'go', 'area', 'map', 'well', 'character', 'card', 'many', 'legacy', 'game', 'feel', 'easily', 'play', 'buy', 'copy', 'game', 'nee', 'rip', 'card', 'game', 'character', 'card', 'upgrade', 'experience', 'necessarily', 'ruin', 'location', 'already', 'map', 'imagine', 'would', 'like', 'play', 'skyrim', 'second', 'time', 'less', 'surprise', 'allow', 'fully', 'explore', 'character', 'class', 'type', 'previously', 'allow', 'take', 'separate', 'path', 'take', 'first', 'time', 'story', 'worry', 'game', 'ton', 'mission', 'start', 'similar', 'rpg', 'video', 'game', 'love', 'begin', 'unlock', 'pretty', 'soon', 'find', 'branch', 'interweave', 'story', 'consequence', 'impact', 'other', 'example', 'go', 'work', 'shady', 'contact', 'meet', 'obviously', 'good', 'take', 'mission', 'hunt', 'prevent', 'unleash', 'havoc', 'choice', 'make', 'lock', 'mission', 'work', 'bring', 'head', 'city', 'guard', 'course', 'always', 'enter', 'casual', 'mode', 'play', 'mission', 'game', 'personally', 'complete', 'full', 'game', 'month', 'line', 'game', 'come', 'wonderful', 'looking', 'board', 'map', 'gloomhaven', 'surround', 'area', 'overall', 'map', 'fairly', 'blank', 'start', 'begin', 'game', 'apply', 'specific', 'location', 'represent', 'available', 'mission', 'travel', 'even', 'close', 'complete', 'already', 'look', 'great', 'undoubtedly', 'look', 'amazing', 'adventure', 'complete', 'cooperative', 'game', 'overall', 'character', 'personal', 'goal', 'reason', 'choose', 'risk', 'life', 'fight', 'monster', 'try', 'achieve', 'achieve', 'character', 'retire', 'game', 'start', 'new', 'character', 'class', 'unlock', 'various', 'thing', 'include', 'new', 'character', 'course', 'use', 'team', 'work', 'assist', 'actually', 'beat', 'dungeon', 'essential', 'overall', 'try', 'complete', 'goal', 'other', 'simultaneously', 'visit', 'town', 'travel', 'spending', 'game', 'delving', 'dungeon', 'crypt', 'forest', 'encampment', 'ancient', 'temple', 'know', 'classic', 'setup', 'tile', 'placement', 'similar', 'game', 'decent', 'shadow', 'brimstone', 'however', 'game', 'instead', 'movement', 'combat', 'perform', 'play', 'hand', 'card', 'begin', 'dungeon', 'set', 'amount', 'maximum', 'card', 'round', 'play', 'card', 'perform', 'action', 'typically', 'move', 'type', 'action', 'center', 'attack', 'sort', 'card', 'go', 'recover', 'rest', 'action', 'however', 'rest', 'well', 'take', 'damage', 'begin', 'lose', 'card', 'rest', 'scenario', 'completely', 'run', 'card', 'character', 'become', 'exhausted', 'longer', 'participate', 'rest', 'scenario', 'trick', 'perform', 'action', 'efficient', 'way', 'possible', 'complete', 'dungeon', 'running', 'card', 'attack', 'also', 'draw', 'card', 'attack', 'modifi', 'deck', 'element', 'randomness', 'game', 'begin', 'preset', 'amount', 'card', 'add', 'subtract', 'damage', 'damage', 'amount', 'damage', 'deal', 'deck', 'alter', 'leveling', 'set', 'game', 'bit', 'unique', 'twist', 'still', 'take', 'place', 'location', 'wise', 'medieval', 'laced', 'location', 'set', 'away', 'elve', 'dwarf', 'goblin', 'classic', 'trope', 'give', 'unique', 'world', 'feel', 'time', 'give', 'fresh', 'look', 'start', 'character', 'race', 'include', 'vermle', 'humanoid', 'mouse', 'cat', 'type', 'creature', 'human', 'course', 'orchid', 'mage', 'creature', 'somewhat', 'reminiscent', 'asari', 'mass', 'effect', 'small', 'creature', 'great', 'mechanical', 'machination', 'man', 'monster', 'horn', 'bigfoot', 'sword', 'sure', 'store', 'character', 'unlock', 'overall', 'feel', 'far', 'fresh', 'unique', 'standard', 'use', 'sort', 'game', 'leveling', 'would', 'rpg', 'leveling', 'character', 'gain', 'experience', 'able', 'level', 'character', 'allow', 'add', 'new', 'powerful', 'card', 'hand', 'also', 'allow', 'modify', 'attack', 'modifi', 'deck', 'become', 'powerful', 'add', 'new', 'ability', 'synergize', 'team', 'card', 'course', 'ton', 'item', 'gear', 'purchase', 'find', 'augment', 'beef', 'character', 'find', 'sweet', 'necromancer', 'ring', 'summon', 'game', 'wonderful', 'get', 'freakin', 'much', 'huge', 'box', 'see', 'picture', 'next', 'gallon', 'water', 'jug', 'weigh', 'pound', 'exaggeration', 'come', 'ton', 'stuff', 'mention', 'wonderful', 'box', 'insert', 'keep', 'card', 'component', 'fairly', 'organize', 'great', 'design', 'playable', 'character', 'come', 'miniature', 'extremely', 'detailed', 'blast', 'painting', 'monster', 'cardboard', 'standee', 'let', 'turn', 'really', 'detract', 'gameplay', 'immersion', 'character', 'come', 'unique', 'hand', 'card', 'upgrade', 'add', 'hundred', 'card', 'small', 'type', 'magic', 'sized', 'one', 'really', 'make', 'single', 'complaint', 'component', 'wise', 'difficulty', 'take', 'think', 'say', 'game', 'set', 'monster', 'difficulty', 'base', 'equation', 'determine', 'average', 'character', 'level', 'adjust', 'play', 'scenario', 'easy', 'affect', 'collect', 'game', 'mention', 'personally', 'say', 'start', 'first', 'scenario', 'play', 'easy', 'mode', 'get', 'game', 'mechanic', 'get', 'gold', 'buy', 'gear', 'otherwise', 'may', 'find', 'get', 'stomp', 'bit', 'would', 'put', 'game', 'moderate', 'level', 'come', 'heaviness', 'rule', 'definitely', 'would', 'able', 'play', 'get', 'play', 'dungeon_crawling', 'game', 'issue', 'br', 'wonderfully', 'set', 'think', 'read', 'fairly', 'easy', 'long', 'page', 'book', 'contain', 'many', 'picture', 'aide', 'guide', 'playthrough', 'first', 'couple', 'session', 'typical', 'moderately', 'heavy', 'game', 'get', 'mechanic', 'longer', 'rarely', 'need', 'actually', 'consult', 'rulebook', 'refresh', 'find', 'game', 'little', 'hole', 'rule', 'require', 'house', 'rule', 'specific', 'circumstance', 'due', 'ambiguity', 'final_thought', 'great', 'game', 'wife', 'get', 'enough', 'start', 'scratch', 'surface', 'several', 'play', 'session', 'least', 'hour', 'gameplay', 'still', 'entrance', 'first', 'start', 'get', 'well', 'level', 'still', 'retire', 'character', 'expect', 'probably', 'least', 'dungeon', 'retire', 'wild', 'guess', 'depend', 'personal', 'mission', 'may', 'take', 'longer', 'short', 'get', 'close', 'game', 'feel', 'lot', 'first', 'play', 'classic', 'video', 'game', 'rpg', 'elder', 'scroll', 'dragonage', 'massive', 'world', 'explore', 'quickly', 'find', 'ton', 'choice', 'story', 'arcs', 'explore', 'side', 'quest', 'loot', 'level', 'side', 'quest', 'mention', 'interesting', 'story', 'branching', 'intertwine', 'story', 'arcs', 'wife', 'always', 'eager', 'get', 'next', 'mission', 'choose', 'adventure', 'style', 'play', 'especially', 'come', 'board', 'game', 'game', 'many', 'unique', 'concept', 'hope', 'future', 'game', 'incorporate', 'shadow', 'brimstone', 'absolutely', 'love', 'sorry', 'playing', 'month', 'obsess', 'new', 'find', 'love', 'gloomhaven']]\n"
     ]
    }
   ],
   "source": [
    "import spacy\n",
    "# Remove Stop Words\n",
    "data_words_nostops = remove_stopwords(data_words)\n",
    "# Form Bigrams\n",
    "data_words_bigrams = make_bigrams(data_words_nostops)\n",
    "# Initialize spacy 'en' model, keeping only tagger component (for efficiency)\n",
    "nlp = spacy.load(\"en_core_web_sm\", disable=['parser', 'ner'])\n",
    "# Do lemmatization keeping only noun, adj, vb, adv\n",
    "data_lemmatized = lemmatization(data_words_bigrams, allowed_postags=['NOUN', 'ADJ', 'VERB', 'ADV'])\n",
    "print(data_lemmatized[:1])"
   ]
  },
  {
   "cell_type": "code",
   "execution_count": 7,
   "metadata": {},
   "outputs": [
    {
     "name": "stdout",
     "output_type": "stream",
     "text": [
      "[[(0, 1), (1, 3), (2, 2), (3, 1), (4, 2), (5, 4), (6, 2), (7, 4), (8, 1), (9, 1), (10, 1), (11, 3), (12, 1), (13, 1), (14, 1), (15, 4), (16, 3), (17, 2), (18, 1), (19, 2), (20, 1), (21, 1), (22, 3), (23, 1), (24, 1), (25, 2), (26, 2), (27, 2), (28, 1), (29, 1), (30, 4), (31, 1), (32, 2), (33, 1), (34, 1), (35, 1), (36, 1), (37, 1), (38, 3), (39, 1), (40, 5), (41, 1), (42, 2), (43, 1), (44, 1), (45, 3), (46, 1), (47, 1), (48, 2), (49, 1), (50, 1), (51, 1), (52, 1), (53, 2), (54, 1), (55, 1), (56, 3), (57, 2), (58, 17), (59, 1), (60, 1), (61, 1), (62, 1), (63, 22), (64, 2), (65, 2), (66, 1), (67, 1), (68, 3), (69, 3), (70, 2), (71, 1), (72, 1), (73, 8), (74, 1), (75, 5), (76, 1), (77, 2), (78, 1), (79, 1), (80, 1), (81, 1), (82, 1), (83, 1), (84, 1), (85, 1), (86, 2), (87, 1), (88, 4), (89, 3), (90, 1), (91, 4), (92, 1), (93, 1), (94, 3), (95, 3), (96, 1), (97, 1), (98, 1), (99, 1), (100, 1), (101, 1), (102, 1), (103, 1), (104, 2), (105, 1), (106, 1), (107, 1), (108, 1), (109, 6), (110, 1), (111, 1), (112, 1), (113, 1), (114, 3), (115, 1), (116, 1), (117, 1), (118, 1), (119, 1), (120, 1), (121, 1), (122, 2), (123, 1), (124, 1), (125, 1), (126, 1), (127, 1), (128, 1), (129, 1), (130, 1), (131, 1), (132, 1), (133, 1), (134, 1), (135, 1), (136, 1), (137, 2), (138, 3), (139, 1), (140, 3), (141, 1), (142, 4), (143, 1), (144, 1), (145, 7), (146, 5), (147, 1), (148, 1), (149, 1), (150, 1), (151, 2), (152, 1), (153, 1), (154, 1), (155, 2), (156, 1), (157, 44), (158, 2), (159, 1), (160, 3), (161, 13), (162, 2), (163, 3), (164, 4), (165, 2), (166, 1), (167, 1), (168, 1), (169, 4), (170, 1), (171, 1), (172, 1), (173, 3), (174, 1), (175, 1), (176, 1), (177, 1), (178, 2), (179, 1), (180, 1), (181, 1), (182, 1), (183, 1), (184, 2), (185, 1), (186, 2), (187, 2), (188, 1), (189, 1), (190, 1), (191, 1), (192, 1), (193, 1), (194, 1), (195, 1), (196, 3), (197, 1), (198, 1), (199, 1), (200, 1), (201, 1), (202, 1), (203, 2), (204, 3), (205, 1), (206, 1), (207, 1), (208, 1), (209, 1), (210, 2), (211, 3), (212, 1), (213, 1), (214, 9), (215, 3), (216, 1), (217, 1), (218, 1), (219, 1), (220, 1), (221, 1), (222, 4), (223, 1), (224, 2), (225, 3), (226, 4), (227, 1), (228, 1), (229, 1), (230, 1), (231, 3), (232, 1), (233, 1), (234, 1), (235, 1), (236, 3), (237, 1), (238, 5), (239, 4), (240, 1), (241, 1), (242, 1), (243, 2), (244, 1), (245, 3), (246, 1), (247, 1), (248, 1), (249, 3), (250, 1), (251, 2), (252, 7), (253, 2), (254, 1), (255, 1), (256, 2), (257, 1), (258, 4), (259, 3), (260, 1), (261, 1), (262, 1), (263, 1), (264, 1), (265, 1), (266, 1), (267, 1), (268, 9), (269, 2), (270, 1), (271, 2), (272, 1), (273, 1), (274, 1), (275, 1), (276, 1), (277, 1), (278, 1), (279, 2), (280, 1), (281, 5), (282, 1), (283, 1), (284, 3), (285, 1), (286, 1), (287, 2), (288, 1), (289, 4), (290, 1), (291, 2), (292, 2), (293, 3), (294, 1), (295, 1), (296, 18), (297, 2), (298, 1), (299, 1), (300, 2), (301, 1), (302, 1), (303, 1), (304, 2), (305, 1), (306, 1), (307, 1), (308, 1), (309, 1), (310, 1), (311, 1), (312, 2), (313, 1), (314, 1), (315, 3), (316, 1), (317, 2), (318, 1), (319, 1), (320, 1), (321, 2), (322, 2), (323, 2), (324, 1), (325, 1), (326, 1), (327, 1), (328, 1), (329, 1), (330, 1), (331, 2), (332, 1), (333, 4), (334, 4), (335, 1), (336, 1), (337, 1), (338, 1), (339, 1), (340, 3), (341, 1), (342, 3), (343, 1), (344, 1), (345, 1), (346, 2), (347, 4), (348, 1), (349, 1), (350, 1), (351, 1), (352, 2), (353, 1), (354, 1), (355, 1), (356, 2), (357, 6), (358, 1), (359, 2), (360, 2), (361, 1), (362, 2), (363, 2), (364, 2), (365, 1), (366, 2), (367, 1), (368, 1), (369, 1), (370, 2), (371, 1), (372, 1), (373, 1), (374, 2), (375, 2), (376, 1), (377, 1), (378, 1), (379, 11), (380, 1), (381, 1), (382, 3), (383, 1), (384, 1), (385, 7), (386, 1), (387, 1), (388, 1), (389, 1), (390, 1), (391, 1), (392, 1), (393, 1), (394, 1), (395, 1), (396, 1), (397, 8), (398, 2), (399, 1), (400, 1), (401, 2), (402, 1), (403, 4), (404, 4), (405, 1), (406, 3), (407, 3), (408, 1), (409, 1), (410, 2), (411, 1), (412, 1), (413, 4), (414, 1), (415, 1), (416, 1), (417, 5), (418, 1), (419, 4), (420, 1), (421, 2), (422, 2), (423, 1), (424, 1), (425, 2), (426, 1), (427, 1), (428, 1), (429, 1), (430, 3), (431, 3), (432, 1), (433, 2), (434, 4), (435, 1), (436, 3), (437, 3), (438, 1), (439, 1), (440, 4)]]\n"
     ]
    }
   ],
   "source": [
    "import gensim.corpora as corpora\n",
    "# Create Dictionary\n",
    "id2word = corpora.Dictionary(data_lemmatized)\n",
    "# Create Corpus\n",
    "texts = data_lemmatized\n",
    "# Term Document Frequency\n",
    "corpus = [id2word.doc2bow(text) for text in texts]\n",
    "# View\n",
    "print(corpus[:1])"
   ]
  },
  {
   "cell_type": "markdown",
   "metadata": {},
   "source": [
    "### Building the LDA model"
   ]
  },
  {
   "cell_type": "code",
   "execution_count": 8,
   "metadata": {},
   "outputs": [],
   "source": [
    "# You can change num_topics\n",
    "num_topics = 10\n",
    "lda_model = gensim.models.LdaMulticore(corpus=corpus,\n",
    "                                       id2word=id2word,\n",
    "                                       num_topics=num_topics, \n",
    "                                       random_state=100,\n",
    "                                       chunksize=100,\n",
    "                                       passes=10,\n",
    "                                       per_word_topics=True)"
   ]
  },
  {
   "cell_type": "code",
   "execution_count": 9,
   "metadata": {},
   "outputs": [
    {
     "name": "stdout",
     "output_type": "stream",
     "text": [
      "[(0,\n",
      "  '0.126*\"game\" + 0.067*\"play\" + 0.055*\"family\" + 0.052*\"love\" + 0.032*\"fun\" + '\n",
      "  '0.027*\"great\" + 0.023*\"kid\" + 0.022*\"friend\" + 0.017*\"age\" + 0.015*\"buy\"'),\n",
      " (1,\n",
      "  '0.067*\"player\" + 0.062*\"game\" + 0.021*\"card\" + 0.014*\"strategy\" + '\n",
      "  '0.013*\"building\" + 0.013*\"good\" + 0.012*\"build\" + 0.010*\"point\" + '\n",
      "  '0.010*\"victory\" + 0.010*\"turn\"'),\n",
      " (2,\n",
      "  '0.058*\"game\" + 0.041*\"piece\" + 0.028*\"box\" + 0.026*\"quality\" + 0.026*\"card\" '\n",
      "  '+ 0.023*\"good\" + 0.014*\"board\" + 0.013*\"come\" + 0.012*\"well\" + '\n",
      "  '0.011*\"small\"'),\n",
      " (3,\n",
      "  '0.038*\"card\" + 0.028*\"player\" + 0.018*\"point\" + 0.016*\"turn\" + 0.013*\"tile\" '\n",
      "  '+ 0.012*\"get\" + 0.012*\"take\" + 0.012*\"move\" + 0.012*\"game\" + 0.011*\"place\"'),\n",
      " (4,\n",
      "  '0.126*\"game\" + 0.047*\"play\" + 0.032*\"easy\" + 0.029*\"fun\" + 0.026*\"great\" + '\n",
      "  '0.024*\"strategy\" + 0.022*\"learn\" + 0.021*\"player\" + 0.016*\"simple\" + '\n",
      "  '0.015*\"lot\"'),\n",
      " (5,\n",
      "  '0.105*\"game\" + 0.084*\"play\" + 0.031*\"time\" + 0.026*\"get\" + 0.026*\"fun\" + '\n",
      "  '0.018*\"people\" + 0.017*\"take\" + 0.016*\"really\" + 0.014*\"first\" + '\n",
      "  '0.011*\"friend\"'),\n",
      " (6,\n",
      "  '0.056*\"game\" + 0.018*\"card\" + 0.017*\"play\" + 0.013*\"player\" + 0.011*\"br\" + '\n",
      "  '0.009*\"make\" + 0.008*\"feel\" + 0.007*\"rule\" + 0.007*\"get\" + 0.007*\"time\"'),\n",
      " (7,\n",
      "  '0.197*\"game\" + 0.181*\"great\" + 0.030*\"miss\" + 0.027*\"receive\" + '\n",
      "  '0.023*\"arrive\" + 0.022*\"gift\" + 0.021*\"love\" + 0.020*\"awesome\" + '\n",
      "  '0.017*\"ship\" + 0.016*\"super\"'),\n",
      " (8,\n",
      "  '0.031*\"word\" + 0.031*\"group\" + 0.029*\"people\" + 0.029*\"card\" + 0.028*\"team\" '\n",
      "  '+ 0.026*\"clue\" + 0.024*\"guess\" + 0.019*\"picture\" + 0.019*\"laugh\" + '\n",
      "  '0.016*\"party\"'),\n",
      " (9,\n",
      "  '0.055*\"expansion\" + 0.034*\"original\" + 0.033*\"version\" + 0.028*\"new\" + '\n",
      "  '0.027*\"add\" + 0.026*\"game\" + 0.017*\"set\" + 0.017*\"character\" + '\n",
      "  '0.011*\"change\" + 0.011*\"story\"')]\n"
     ]
    }
   ],
   "source": [
    "from pprint import pprint\n",
    "# Print the Keyword in the 10 topics\n",
    "pprint(lda_model.print_topics())\n",
    "doc_lda = lda_model[corpus]"
   ]
  },
  {
   "cell_type": "code",
   "execution_count": 75,
   "metadata": {},
   "outputs": [],
   "source": [
    "for index, row in df.iterrows():\n",
    "    for topic in doc_lda[index]:\n",
    "        df.at[index, topic[0]] = topic[1]"
   ]
  },
  {
   "cell_type": "code",
   "execution_count": 76,
   "metadata": {},
   "outputs": [
    {
     "data": {
      "text/html": [
       "<div>\n",
       "<style scoped>\n",
       "    .dataframe tbody tr th:only-of-type {\n",
       "        vertical-align: middle;\n",
       "    }\n",
       "\n",
       "    .dataframe tbody tr th {\n",
       "        vertical-align: top;\n",
       "    }\n",
       "\n",
       "    .dataframe thead th {\n",
       "        text-align: right;\n",
       "    }\n",
       "</style>\n",
       "<table border=\"1\" class=\"dataframe\">\n",
       "  <thead>\n",
       "    <tr style=\"text-align: right;\">\n",
       "      <th></th>\n",
       "      <th>text</th>\n",
       "      <th>2</th>\n",
       "      <th>3</th>\n",
       "      <th>4</th>\n",
       "      <th>5</th>\n",
       "      <th>6</th>\n",
       "      <th>9</th>\n",
       "      <th>0</th>\n",
       "      <th>1</th>\n",
       "      <th>7</th>\n",
       "      <th>8</th>\n",
       "    </tr>\n",
       "  </thead>\n",
       "  <tbody>\n",
       "    <tr>\n",
       "      <th>0</th>\n",
       "      <td>long story short: this game is absolutely wond...</td>\n",
       "      <td>0.045199</td>\n",
       "      <td>0.191369</td>\n",
       "      <td>0.019837</td>\n",
       "      <td>0.038943</td>\n",
       "      <td>0.457658</td>\n",
       "      <td>0.229318</td>\n",
       "      <td>NaN</td>\n",
       "      <td>NaN</td>\n",
       "      <td>NaN</td>\n",
       "      <td>NaN</td>\n",
       "    </tr>\n",
       "    <tr>\n",
       "      <th>1</th>\n",
       "      <td>don't be daunted by the price (granted it's su...</td>\n",
       "      <td>0.027770</td>\n",
       "      <td>0.329543</td>\n",
       "      <td>NaN</td>\n",
       "      <td>0.119259</td>\n",
       "      <td>0.280033</td>\n",
       "      <td>0.238866</td>\n",
       "      <td>NaN</td>\n",
       "      <td>NaN</td>\n",
       "      <td>NaN</td>\n",
       "      <td>NaN</td>\n",
       "    </tr>\n",
       "    <tr>\n",
       "      <th>2</th>\n",
       "      <td>it's hard to describe the awesomeness of this ...</td>\n",
       "      <td>0.030453</td>\n",
       "      <td>NaN</td>\n",
       "      <td>NaN</td>\n",
       "      <td>0.227936</td>\n",
       "      <td>0.435922</td>\n",
       "      <td>0.142169</td>\n",
       "      <td>0.045737</td>\n",
       "      <td>0.113474</td>\n",
       "      <td>NaN</td>\n",
       "      <td>NaN</td>\n",
       "    </tr>\n",
       "    <tr>\n",
       "      <th>3</th>\n",
       "      <td>this game is amazing&lt;br /&gt;&lt;br /&gt;i've been play...</td>\n",
       "      <td>0.325481</td>\n",
       "      <td>NaN</td>\n",
       "      <td>0.137774</td>\n",
       "      <td>NaN</td>\n",
       "      <td>0.377719</td>\n",
       "      <td>0.147908</td>\n",
       "      <td>NaN</td>\n",
       "      <td>NaN</td>\n",
       "      <td>NaN</td>\n",
       "      <td>NaN</td>\n",
       "    </tr>\n",
       "    <tr>\n",
       "      <th>4</th>\n",
       "      <td>its a solid attempt to turn dungeons &amp; dragons...</td>\n",
       "      <td>NaN</td>\n",
       "      <td>NaN</td>\n",
       "      <td>NaN</td>\n",
       "      <td>NaN</td>\n",
       "      <td>0.383689</td>\n",
       "      <td>0.393845</td>\n",
       "      <td>NaN</td>\n",
       "      <td>0.159137</td>\n",
       "      <td>0.043935</td>\n",
       "      <td>NaN</td>\n",
       "    </tr>\n",
       "  </tbody>\n",
       "</table>\n",
       "</div>"
      ],
      "text/plain": [
       "                                                text         2         3  \\\n",
       "0  long story short: this game is absolutely wond...  0.045199  0.191369   \n",
       "1  don't be daunted by the price (granted it's su...  0.027770  0.329543   \n",
       "2  it's hard to describe the awesomeness of this ...  0.030453       NaN   \n",
       "3  this game is amazing<br /><br />i've been play...  0.325481       NaN   \n",
       "4  its a solid attempt to turn dungeons & dragons...       NaN       NaN   \n",
       "\n",
       "          4         5         6         9         0         1         7   8  \n",
       "0  0.019837  0.038943  0.457658  0.229318       NaN       NaN       NaN NaN  \n",
       "1       NaN  0.119259  0.280033  0.238866       NaN       NaN       NaN NaN  \n",
       "2       NaN  0.227936  0.435922  0.142169  0.045737  0.113474       NaN NaN  \n",
       "3  0.137774       NaN  0.377719  0.147908       NaN       NaN       NaN NaN  \n",
       "4       NaN       NaN  0.383689  0.393845       NaN  0.159137  0.043935 NaN  "
      ]
     },
     "execution_count": 76,
     "metadata": {},
     "output_type": "execute_result"
    }
   ],
   "source": [
    "df.head()"
   ]
  },
  {
   "cell_type": "code",
   "execution_count": 78,
   "metadata": {},
   "outputs": [],
   "source": [
    "df.to_csv('results.csv',index=False)"
   ]
  },
  {
   "cell_type": "code",
   "execution_count": null,
   "metadata": {},
   "outputs": [],
   "source": []
  }
 ],
 "metadata": {
  "kernelspec": {
   "display_name": "Python [conda env:env-topicmodeling] *",
   "language": "python",
   "name": "conda-env-env-topicmodeling-py"
  },
  "language_info": {
   "codemirror_mode": {
    "name": "ipython",
    "version": 3
   },
   "file_extension": ".py",
   "mimetype": "text/x-python",
   "name": "python",
   "nbconvert_exporter": "python",
   "pygments_lexer": "ipython3",
   "version": "3.7.5"
  }
 },
 "nbformat": 4,
 "nbformat_minor": 2
}
