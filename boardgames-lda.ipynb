{
 "cells": [
  {
   "cell_type": "code",
   "execution_count": 8,
   "metadata": {},
   "outputs": [
    {
     "data": {
      "text/html": [
       "<div>\n",
       "<style scoped>\n",
       "    .dataframe tbody tr th:only-of-type {\n",
       "        vertical-align: middle;\n",
       "    }\n",
       "\n",
       "    .dataframe tbody tr th {\n",
       "        vertical-align: top;\n",
       "    }\n",
       "\n",
       "    .dataframe thead th {\n",
       "        text-align: right;\n",
       "    }\n",
       "</style>\n",
       "<table border=\"1\" class=\"dataframe\">\n",
       "  <thead>\n",
       "    <tr style=\"text-align: right;\">\n",
       "      <th></th>\n",
       "      <th>text</th>\n",
       "    </tr>\n",
       "  </thead>\n",
       "  <tbody>\n",
       "    <tr>\n",
       "      <th>0</th>\n",
       "      <td>Long Story short: This game is absolutely wond...</td>\n",
       "    </tr>\n",
       "    <tr>\n",
       "      <th>1</th>\n",
       "      <td>Don't be daunted by the price (granted it's su...</td>\n",
       "    </tr>\n",
       "    <tr>\n",
       "      <th>2</th>\n",
       "      <td>It's hard to describe the awesomeness of this ...</td>\n",
       "    </tr>\n",
       "    <tr>\n",
       "      <th>3</th>\n",
       "      <td>This game is amazing!!!&lt;br /&gt;&lt;br /&gt;I've been p...</td>\n",
       "    </tr>\n",
       "    <tr>\n",
       "      <th>4</th>\n",
       "      <td>Its a solid attempt to turn Dungeons &amp; Dragons...</td>\n",
       "    </tr>\n",
       "  </tbody>\n",
       "</table>\n",
       "</div>"
      ],
      "text/plain": [
       "                                                text\n",
       "0  Long Story short: This game is absolutely wond...\n",
       "1  Don't be daunted by the price (granted it's su...\n",
       "2  It's hard to describe the awesomeness of this ...\n",
       "3  This game is amazing!!!<br /><br />I've been p...\n",
       "4  Its a solid attempt to turn Dungeons & Dragons..."
      ]
     },
     "execution_count": 8,
     "metadata": {},
     "output_type": "execute_result"
    }
   ],
   "source": [
    "import pandas as pd\n",
    "\n",
    "df = pd.read_csv('input_test.csv', encoding='latin1', header=None, names=[\"text\"])\n",
    "df.head()\n"
   ]
  },
  {
   "cell_type": "markdown",
   "metadata": {},
   "source": [
    "### Remove punctuation/lower casing"
   ]
  },
  {
   "cell_type": "code",
   "execution_count": 9,
   "metadata": {},
   "outputs": [],
   "source": [
    "# Load the regular expression library\n",
    "import re\n",
    "# Remove punctuation\n",
    "df['text'] = df['text'].map(lambda x: re.sub('[,\\.!?]', '', x))\n",
    "# Convert the to lowercase\n",
    "df['text'] = df['text'].map(lambda x: x.lower())"
   ]
  },
  {
   "cell_type": "markdown",
   "metadata": {},
   "source": [
    "### Tokenize"
   ]
  },
  {
   "cell_type": "code",
   "execution_count": 10,
   "metadata": {},
   "outputs": [
    {
     "name": "stdout",
     "output_type": "stream",
     "text": [
      "[['long', 'story', 'short', 'this', 'game', 'is', 'absolutely', 'wonderful', 'this', 'according', 'to', 'many', 'board', 'game', 'review', 'sites', 'is', 'set', 'to', 'be', 'the', 'top', 'game', 'of', 'and', 'recommend', 'getting', 'yourself', 'copy', 'though', 'it', 'will', 'likely', 'be', 'difficult', 'take', 'some', 'time', 'its', 'definitely', 'hot', 'selling', 'item', 'and', 'was', 'lucky', 'enough', 'to', 'pre', 'order', 'mine', 'month', 'ago', 'before', 'other', 'folks', 'started', 'seeing', 'it', 'listed', 'on', 'amazon', 'this', 'is', 'definitely', 'worth', 'getting', 'and', 'will', 'make', 'huge', 'hit', 'to', 'your', 'gaming', 'nights', 'more', 'detailed', 'breakdown', 'is', 'below', 'br', 'note', 'relating', 'to', 'pictures', 'the', 'game', 'does', 'not', 'come', 'with', 'painted', 'miniatures', 'as', 'enjoy', 'paining', 'them', 'did', 'so', 'but', 'my', 'wife', 'and', 'played', 'several', 'games', 'before', 'they', 'were', 'painted', 'without', 'any', 'issues', 'confusion', 'they', 'just', 'look', 'cooler', 'it', 'more', 'immersive', 'in', 'my', 'opinion', 'when', 'they', 'are', 'painted', 'br', 'br', 'legacy', 'mechanics', 'legacy', 'game', 'is', 'game', 'that', 'does', 'not', 'reset', 'from', 'one', 'playthrough', 'to', 'another', 'but', 'rather', 'like', 'reading', 'story', 'each', 'game', 'played', 'builds', 'on', 'the', 'next', 'in', 'an', 'overall', 'hour', 'campaign', 'note', 'unlike', 'other', 'campaign', 'legacy', 'games', 'this', 'does', 'not', 'require', 'single', 'playgroup', 'but', 'rather', 'you', 'can', 'start', 'new', 'party', 'with', 'just', 'about', 'anyone', 'anytime', 'and', 'you', 'just', 'drop', 'into', 'your', 'already', 'existing', 'world', 'to', 'plunder', 'dungeons', 'and', 'kill', 'baddies', 'the', 'game', 'comes', 'with', 'playable', 'characters', 'but', 'you', 'only', 'start', 'with', 'as', 'you', 'play', 'through', 'the', 'game', 'you', 'unlock', 'new', 'characters', 'races', 'classes', 'to', 'play', 'as', 'additionally', 'as', 'you', 'play', 'through', 'you', 'will', 'be', 'able', 'to', 'level', 'up', 'the', 'prosperity', 'of', 'the', 'town', 'of', 'gloomhaven', 'which', 'is', 'where', 'your', 'party', 'will', 'travel', 'between', 'adventures', 'to', 'level', 'up', 'buy', 'sell', 'gear', 'get', 'your', 'grog', 'or', 'mead', 'on', 'and', 'perform', 'random', 'town', 'events', 'as', 'gloomhaven', 'levels', 'up', 'new', 'items', 'become', 'available', 'to', 'purchase', 'and', 'any', 'new', 'characters', 'can', 'start', 'their', 'quests', 'at', 'higher', 'levels', 'as', 'you', 'play', 'through', 'and', 'eventually', 'retire', 'characters', 'you', 'will', 'gain', 'additional', 'permanent', 'stat', 'boosts', 'that', 'apply', 'to', 'all', 'your', 'characters', 'going', 'forward', 'like', 'many', 'other', 'legacy', 'game', 'this', 'game', 'includes', 'bunch', 'of', 'sealed', 'envelopes', 'unlockables', 'and', 'high', 'quality', 'stickers', 'that', 'go', 'on', 'the', 'area', 'map', 'as', 'well', 'as', 'on', 'character', 'cards', 'unlike', 'many', 'legacy', 'games', 'feel', 'like', 'this', 'can', 'easily', 'be', 'played', 'through', 'again', 'without', 'having', 'to', 'buy', 'another', 'copy', 'of', 'the', 'game', 'you', 'don', 'need', 'to', 'rip', 'up', 'cards', 'or', 'anything', 'in', 'this', 'game', 'and', 'other', 'than', 'the', 'character', 'card', 'upgrades', 'the', 'experience', 'wouldn', 'necessarily', 'be', 'ruined', 'by', 'having', 'all', 'the', 'locations', 'already', 'on', 'the', 'map', 'imagine', 'it', 'would', 'be', 'like', 'playing', 'skyrim', 'second', 'time', 'through', 'less', 'surprises', 'but', 'allows', 'you', 'to', 'fully', 'explore', 'character', 'class', 'types', 'you', 'didn', 'previously', 'and', 'allows', 'you', 'to', 'take', 'separate', 'paths', 'than', 'you', 'took', 'the', 'first', 'time', 'br', 'br', 'story', 'don', 'worry', 'won', 'spoil', 'anything', 'the', 'game', 'has', 'tons', 'of', 'missions', 'you', 'start', 'with', 'just', 'one', 'but', 'similar', 'to', 'all', 'those', 'rpg', 'video', 'games', 'we', 'love', 'you', 'begin', 'unlocking', 'more', 'and', 'more', 'then', 'pretty', 'soon', 'you', 'find', 'yourself', 'with', 'branching', 'and', 'interweaving', 'stories', 'some', 'have', 'consequences', 'that', 'have', 'an', 'impacts', 'on', 'others', 'for', 'example', 'will', 'you', 'go', 'and', 'work', 'for', 'this', 'shady', 'contact', 'you', 'meet', 'who', 'is', 'obviously', 'up', 'to', 'no', 'good', 'or', 'will', 'you', 'take', 'up', 'mission', 'to', 'hunt', 'down', 'and', 'kill', 'the', 'shady', 'contact', 'preventing', 'them', 'from', 'unleashing', 'havoc', 'whatever', 'choice', 'you', 'make', 'it', 'locks', 'off', 'other', 'missions', 'you', 'can', 'work', 'for', 'someone', 'if', 'you', 'brought', 'their', 'head', 'to', 'the', 'city', 'guard', 'of', 'course', 'you', 'can', 'always', 'enter', 'casual', 'mode', 'and', 'play', 'through', 'these', 'missions', 'its', 'your', 'game', 'afterall', 'but', 'personally', 'won', 'be', 'doing', 'this', 'until', 'complete', 'the', 'full', 'game', 'month', 'or', 'so', 'down', 'the', 'line', 'br', 'br', 'map', 'the', 'game', 'comes', 'with', 'wonderful', 'looking', 'board', 'map', 'of', 'gloomhaven', 'surrounding', 'area', 'overall', 'the', 'map', 'is', 'fairly', 'blank', 'to', 'start', 'with', 'and', 'you', 'begin', 'the', 'game', 'by', 'applying', 'sticker', 'in', 'specific', 'location', 'representing', 'the', 'available', 'missions', 'you', 'can', 'travel', 'to', 'while', 'am', 'not', 'even', 'close', 'to', 'completing', 'it', 'yet', 'it', 'already', 'looks', 'great', 'and', 'will', 'undoubtedly', 'look', 'amazing', 'after', 'your', 'adventures', 'are', 'complete', 'br', 'br', 'gameplay', 'this', 'is', 'semi', 'cooperative', 'game', 'overall', 'each', 'character', 'has', 'personal', 'goal', 'the', 'reason', 'why', 'they', 'choose', 'to', 'risk', 'their', 'lives', 'fighting', 'monsters', 'that', 'they', 'are', 'trying', 'to', 'achieve', 'after', 'you', 'achieve', 'this', 'your', 'character', 'retires', 'from', 'the', 'game', 'though', 'you', 'can', 'start', 'new', 'character', 'with', 'the', 'same', 'class', 'and', 'you', 'unlock', 'various', 'things', 'including', 'new', 'characters', 'of', 'course', 'using', 'team', 'work', 'to', 'assist', 'each', 'other', 'and', 'actually', 'beat', 'dungeons', 'is', 'essential', 'overall', 'you', 'are', 'trying', 'to', 'complete', 'your', 'own', 'goals', 'while', 'others', 'are', 'simultaneously', 'doing', 'theirs', 'when', 'you', 'aren', 'visiting', 'town', 'traveling', 'you', 'will', 'be', 'spending', 'vast', 'majority', 'of', 'the', 'game', 'delving', 'into', 'dungeons', 'crypts', 'forest', 'encampments', 'ancient', 'temples', 'etc', 'you', 'know', 'all', 'the', 'classics', 'setup', 'tile', 'placement', 'is', 'very', 'similar', 'to', 'games', 'like', 'decent', 'or', 'shadows', 'of', 'brimstone', 'however', 'there', 'are', 'no', 'dice', 'in', 'this', 'game', 'not', 'instead', 'movement', 'combat', 'is', 'performed', 'via', 'playing', 'from', 'hand', 'of', 'cards', 'you', 'begin', 'every', 'dungeon', 'with', 'set', 'amount', 'of', 'maximum', 'cards', 'and', 'each', 'round', 'you', 'play', 'cards', 'performing', 'actions', 'typically', 'move', 'type', 'action', 'and', 'one', 'that', 'centers', 'around', 'attacks', 'of', 'some', 'sort', 'after', 'this', 'the', 'cards', 'go', 'to', 'your', 'discard', 'pile', 'and', 'can', 'be', 'recovered', 'via', 'rest', 'action', 'however', 'when', 'you', 'rest', 'as', 'well', 'as', 'take', 'damage', 'you', 'begin', 'to', 'lose', 'cards', 'for', 'the', 'rest', 'of', 'the', 'scenario', 'after', 'you', 'have', 'completely', 'run', 'out', 'of', 'cards', 'your', 'character', 'becomes', 'exhausted', 'and', 'can', 'no', 'longer', 'participate', 'in', 'the', 'rest', 'of', 'the', 'scenario', 'so', 'the', 'trick', 'is', 'performing', 'your', 'actions', 'in', 'the', 'most', 'efficient', 'way', 'possible', 'so', 'that', 'you', 'can', 'complete', 'the', 'dungeon', 'before', 'running', 'out', 'of', 'cards', 'for', 'every', 'attack', 'you', 'will', 'also', 'draw', 'card', 'from', 'your', 'attack', 'modifier', 'deck', 'which', 'is', 'the', 'element', 'of', 'randomness', 'in', 'this', 'game', 'you', 'begin', 'with', 'preset', 'amount', 'of', 'cards', 'that', 'add', 'subtract', 'damage', 'damage', 'etc', 'the', 'amount', 'of', 'damage', 'you', 'deal', 'but', 'this', 'deck', 'can', 'be', 'altered', 'via', 'leveling', 'up', 'br', 'br', 'setting', 'the', 'game', 'does', 'bit', 'of', 'unique', 'twist', 'on', 'the', 'dungeon', 'crawler', 'genre', 'while', 'still', 'taking', 'place', 'location', 'wise', 'in', 'the', 'sorta', 'medieval', 'magic', 'laced', 'location', 'setting', 'it', 'does', 'away', 'with', 'elves', 'dwarves', 'goblins', 'and', 'the', 'other', 'classic', 'tropes', 'to', 'give', 'you', 'unique', 'world', 'that', 'feels', 'very', 'tolkien', 'esk', 'but', 'at', 'the', 'same', 'time', 'gives', 'you', 'very', 'fresh', 'look', 'starting', 'characters', 'races', 'include', 'the', 'vermling', 'humanoid', 'mouse', 'cat', 'type', 'creature', 'humans', 'of', 'course', 'an', 'orchid', 'mage', 'creatures', 'that', 'are', 'somewhat', 'reminiscent', 'of', 'asari', 'from', 'mass', 'effect', 'quatryls', 'small', 'creatures', 'that', 'are', 'great', 'with', 'mechanical', 'machinations', 'saavas', 'sorta', 'rock', 'men', 'monsters', 'and', 'inox', 'horned', 'bigfoot', 'with', 'sword', 'not', 'sure', 'what', 'is', 'in', 'store', 'for', 'characters', 'have', 'yet', 'to', 'unlock', 'but', 'overall', 'just', 'feels', 'far', 'more', 'fresh', 'and', 'unique', 'than', 'the', 'standards', 'we', 'are', 'all', 'used', 'to', 'in', 'these', 'sorts', 'of', 'games', 'br', 'br', 'leveling', 'up', 'what', 'would', 'an', 'rpg', 'be', 'without', 'leveling', 'up', 'your', 'character', 'as', 'you', 'gain', 'experience', 'you', 'will', 'be', 'able', 'to', 'level', 'up', 'your', 'character', 'which', 'allows', 'you', 'to', 'add', 'new', 'more', 'powerful', 'cards', 'to', 'your', 'hand', 'you', 'are', 'also', 'allowed', 'to', 'modify', 'your', 'attack', 'modifier', 'deck', 'so', 'that', 'it', 'can', 'become', 'more', 'powerful', 'or', 'add', 'new', 'abilities', 'that', 'can', 'synergize', 'with', 'your', 'team', 'other', 'cards', 'and', 'of', 'course', 'there', 'are', 'tons', 'of', 'items', 'gear', 'that', 'can', 'be', 'purchased', 'found', 'to', 'further', 'augment', 'beef', 'up', 'your', 'character', 'just', 'found', 'sweet', 'necromancer', 'ring', 'that', 'summons', 'skeleton', 'br', 'br', 'components', 'components', 'in', 'this', 'game', 'are', 'wonderful', 'and', 'you', 'get', 'so', 'freakin', 'much', 'the', 'huge', 'box', 'see', 'picture', 'next', 'to', 'gallon', 'water', 'jug', 'weighs', 'over', 'pounds', 'not', 'an', 'exaggeration', 'and', 'comes', 'with', 'tons', 'of', 'stuff', 'not', 'to', 'mention', 'wonderful', 'in', 'box', 'insert', 'that', 'keeps', 'most', 'of', 'the', 'cards', 'components', 'fairly', 'organized', 'great', 'design', 'all', 'playable', 'characters', 'comes', 'with', 'miniatures', 'that', 'are', 'extremely', 'detailed', 'am', 'having', 'blast', 'painting', 'them', 'if', 'you', 'are', 'into', 'that', 'all', 'monsters', 'have', 'cardboard', 'standees', 'but', 'don', 'let', 'that', 'turn', 'you', 'off', 'the', 'artwork', 'on', 'them', 'is', 'top', 'notch', 'and', 'it', 'really', 'doesn', 'detract', 'from', 'gameplay', 'immersion', 'each', 'character', 'comes', 'with', 'their', 'own', 'unique', 'hand', 'of', 'cards', 'to', 'use', 'upgrades', 'to', 'be', 'added', 'hundreds', 'of', 'cards', 'both', 'the', 'small', 'type', 'and', 'magic', 'sized', 'ones', 'really', 'can', 'make', 'single', 'complaint', 'about', 'anything', 'component', 'wise', 'br', 'br', 'difficulty', 'as', 'the', 'game', 'is', 'cooperative', 'playthroughs', 'are', 'not', 'cakewalk', 'and', 'do', 'take', 'some', 'thinking', 'that', 'being', 'said', 'the', 'game', 'sets', 'monster', 'difficulty', 'based', 'on', 'an', 'equation', 'determined', 'by', 'your', 'average', 'character', 'level', 'this', 'can', 'further', 'be', 'adjusted', 'to', 'play', 'the', 'scenario', 'on', 'easy', 'or', 'hard', 'which', 'affects', 'gold', 'xp', 'collected', 'the', 'game', 'doesn', 'mention', 'this', 'but', 'personally', 'say', 'you', 'should', 'start', 'your', 'first', 'few', 'scenarios', 'playing', 'under', 'easy', 'mode', 'both', 'to', 'get', 'the', 'hang', 'of', 'the', 'game', 'mechanics', 'and', 'so', 'you', 'can', 'get', 'gold', 'to', 'buy', 'gear', 'and', 'such', 'otherwise', 'you', 'may', 'find', 'yourself', 'getting', 'stomped', 'around', 'for', 'bit', 'br', 'would', 'put', 'this', 'game', 'in', 'moderate', 'level', 'when', 'it', 'comes', 'to', 'heaviness', 'of', 'rules', 'definitely', 'not', 'something', 'your', 'year', 'old', 'would', 'be', 'able', 'to', 'play', 'but', 'if', 'you', 'can', 'get', 'how', 'to', 'play', 'other', 'dungeon', 'crawling', 'games', 'you', 'won', 'have', 'any', 'issues', 'with', 'this', 'br', 'br', 'rules', 'the', 'game', 'has', 'wonderfully', 'set', 'up', 'thought', 'out', 'rule', 'book', 'reading', 'through', 'it', 'was', 'fairly', 'easy', 'though', 'it', 'is', 'long', 'pages', 'the', 'book', 'contains', 'many', 'picture', 'aides', 'that', 'guide', 'you', 'along', 'your', 'playthrough', 'after', 'our', 'first', 'couple', 'of', 'sessions', 'as', 'is', 'typical', 'with', 'these', 'moderately', 'heavy', 'games', 'we', 'got', 'down', 'the', 'mechanics', 'and', 'no', 'longer', 'rarely', 'needed', 'to', 'actually', 'consult', 'the', 'rulebook', 'it', 'is', 'refreshing', 'to', 'find', 'game', 'with', 'very', 'little', 'holes', 'within', 'the', 'rules', 'which', 'require', 'house', 'ruling', 'specific', 'circumstances', 'due', 'to', 'ambiguity', 'br', 'br', 'final', 'thoughts', 'wow', 'what', 'great', 'game', 'my', 'wife', 'and', 'can', 'get', 'enough', 'of', 'it', 'and', 'we', 'have', 'only', 'started', 'to', 'scratch', 'the', 'surface', 'of', 'it', 'after', 'several', 'play', 'sessions', 'at', 'least', 'hours', 'of', 'gameplay', 'we', 'are', 'still', 'just', 'as', 'entranced', 'as', 'when', 'we', 'first', 'started', 'and', 'it', 'is', 'only', 'getting', 'better', 'as', 'we', 'level', 'up', 'we', 'still', 'haven', 'retired', 'any', 'characters', 'expect', 'probably', 'at', 'least', 'dungeons', 'before', 'you', 'retire', 'though', 'this', 'is', 'just', 'wild', 'guess', 'and', 'depending', 'on', 'your', 'personal', 'mission', 'may', 'take', 'longer', 'shorter', 'though', 'am', 'getting', 'close', 'the', 'game', 'feels', 'lot', 'like', 'first', 'play', 'through', 'of', 'those', 'classic', 'video', 'game', 'rpgs', 'elder', 'scrolls', 'dragonage', 'witcher', 'etc', 'there', 'is', 'just', 'this', 'massive', 'world', 'all', 'for', 'the', 'exploring', 'and', 'you', 'quickly', 'find', 'yourself', 'with', 'tons', 'of', 'choices', 'of', 'what', 'to', 'do', 'what', 'story', 'arcs', 'to', 'explore', 'etc', 'there', 'are', 'side', 'quests', 'loot', 'leveling', 'up', 'more', 'side', 'quests', 'and', 'not', 'to', 'mention', 'an', 'interesting', 'story', 'with', 'branching', 'intertwining', 'story', 'arcs', 'my', 'wife', 'and', 'are', 'always', 'eager', 'to', 'get', 'off', 'on', 'the', 'next', 'mission', 'and', 'the', 'choose', 'your', 'own', 'adventure', 'style', 'of', 'play', 'is', 'very', 'unique', 'especially', 'when', 'it', 'comes', 'to', 'board', 'games', 'the', 'game', 'has', 'many', 'unique', 'concepts', 'that', 'hope', 'future', 'games', 'incorporate', 'br', 'shadows', 'of', 'brimstone', 'absolutely', 'love', 'you', 'but', 'sorry', 'won', 'be', 'playing', 'you', 'for', 'few', 'months', 'while', 'obsess', 'over', 'my', 'new', 'found', 'love', 'gloomhaven']]\n",
      "CPU times: user 5.23 s, sys: 672 ms, total: 5.91 s\n",
      "Wall time: 7.54 s\n"
     ]
    }
   ],
   "source": [
    "%%time\n",
    "import gensim\n",
    "from gensim.utils import simple_preprocess\n",
    "def sent_to_words(sentences):\n",
    "    for sentence in sentences:\n",
    "        yield(gensim.utils.simple_preprocess(str(sentence), deacc=True))  # deacc=True removes punctuations\n",
    "data = df[\"text\"].values.tolist()\n",
    "data_words = list(sent_to_words(data))\n",
    "print(data_words[:1])"
   ]
  },
  {
   "cell_type": "markdown",
   "metadata": {},
   "source": [
    "### Bi-grams and Tri-grams"
   ]
  },
  {
   "cell_type": "code",
   "execution_count": 11,
   "metadata": {},
   "outputs": [],
   "source": [
    "# Build the bigram and trigram models\n",
    "bigram = gensim.models.Phrases(data_words, min_count=5, threshold=100) # higher threshold fewer phrases.\n",
    "trigram = gensim.models.Phrases(bigram[data_words], threshold=100)\n",
    "# Faster way to get a sentence clubbed as a trigram/bigram\n",
    "bigram_mod = gensim.models.phrases.Phraser(bigram)\n",
    "trigram_mod = gensim.models.phrases.Phraser(trigram)"
   ]
  },
  {
   "cell_type": "markdown",
   "metadata": {},
   "source": [
    "### Remove stopwords, make bigrams and trigrams, and lemmatization functions definitions"
   ]
  },
  {
   "cell_type": "code",
   "execution_count": 15,
   "metadata": {},
   "outputs": [
    {
     "name": "stderr",
     "output_type": "stream",
     "text": [
      "[nltk_data] Downloading package stopwords to /home/saber/nltk_data...\n",
      "[nltk_data]   Unzipping corpora/stopwords.zip.\n"
     ]
    }
   ],
   "source": [
    "# Uncomment two lines below to download nltk data for first time, after download, comment again\n",
    "\n",
    "#import nltk\n",
    "#nltk.download('stopwords')\n",
    "\n",
    "from nltk.corpus import stopwords\n",
    "stop_words = stopwords.words('english')\n",
    "stop_words.extend(['from', 'subject', 're', 'edu', 'use'])\n",
    "# Define functions for stopwords, bigrams, trigrams and lemmatization\n",
    "def remove_stopwords(texts):\n",
    "    return [[word for word in simple_preprocess(str(doc)) if word not in stop_words] for doc in texts]\n",
    "def make_bigrams(texts):\n",
    "    return [bigram_mod[doc] for doc in texts]\n",
    "def make_trigrams(texts):\n",
    "    return [trigram_mod[bigram_mod[doc]] for doc in texts]\n",
    "def lemmatization(texts, allowed_postags=['NOUN', 'ADJ', 'VERB', 'ADV']):\n",
    "    \"\"\"https://spacy.io/api/annotation\"\"\"\n",
    "    texts_out = []\n",
    "    for sent in texts:\n",
    "        doc = nlp(\" \".join(sent)) \n",
    "        texts_out.append([token.lemma_ for token in doc if token.pos_ in allowed_postags])\n",
    "    return texts_out"
   ]
  },
  {
   "cell_type": "code",
   "execution_count": null,
   "metadata": {},
   "outputs": [],
   "source": [
    "import spacy\n",
    "# Remove Stop Words\n",
    "data_words_nostops = remove_stopwords(data_words)\n",
    "# Form Bigrams\n",
    "data_words_bigrams = make_bigrams(data_words_nostops)\n",
    "# Initialize spacy 'en' model, keeping only tagger component (for efficiency)\n",
    "nlp = spacy.load(\"en_core_web_sm\", disable=['parser', 'ner'])\n",
    "# Do lemmatization keeping only noun, adj, vb, adv\n",
    "data_lemmatized = lemmatization(data_words_bigrams, allowed_postags=['NOUN', 'ADJ', 'VERB', 'ADV'])\n",
    "print(data_lemmatized[:1])"
   ]
  },
  {
   "cell_type": "code",
   "execution_count": null,
   "metadata": {},
   "outputs": [],
   "source": [
    "import gensim.corpora as corpora\n",
    "# Create Dictionary\n",
    "id2word = corpora.Dictionary(data_lemmatized)\n",
    "# Create Corpus\n",
    "texts = data_lemmatized\n",
    "# Term Document Frequency\n",
    "corpus = [id2word.doc2bow(text) for text in texts]\n",
    "# View\n",
    "print(corpus[:1])"
   ]
  },
  {
   "cell_type": "markdown",
   "metadata": {},
   "source": [
    "### Building the LDA model"
   ]
  },
  {
   "cell_type": "code",
   "execution_count": null,
   "metadata": {},
   "outputs": [],
   "source": [
    "# You can change num_topics\n",
    "lda_model = gensim.models.LdaMulticore(corpus=corpus,\n",
    "                                       id2word=id2word,\n",
    "                                       num_topics=10, \n",
    "                                       random_state=100,\n",
    "                                       chunksize=100,\n",
    "                                       passes=10,\n",
    "                                       per_word_topics=True)"
   ]
  },
  {
   "cell_type": "code",
   "execution_count": null,
   "metadata": {},
   "outputs": [],
   "source": [
    "from pprint import pprint\n",
    "# Print the Keyword in the 10 topics\n",
    "pprint(lda_model.print_topics())\n",
    "doc_lda = lda_model[corpus]"
   ]
  },
  {
   "cell_type": "code",
   "execution_count": null,
   "metadata": {},
   "outputs": [],
   "source": []
  }
 ],
 "metadata": {
  "kernelspec": {
   "display_name": "Python [conda env:env-topicmodeling] *",
   "language": "python",
   "name": "conda-env-env-topicmodeling-py"
  },
  "language_info": {
   "codemirror_mode": {
    "name": "ipython",
    "version": 3
   },
   "file_extension": ".py",
   "mimetype": "text/x-python",
   "name": "python",
   "nbconvert_exporter": "python",
   "pygments_lexer": "ipython3",
   "version": "3.7.5"
  }
 },
 "nbformat": 4,
 "nbformat_minor": 2
}
